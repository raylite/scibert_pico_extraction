{
 "cells": [
  {
   "cell_type": "code",
   "execution_count": 1,
   "metadata": {},
   "outputs": [],
   "source": [
    "import spacy"
   ]
  },
  {
   "cell_type": "code",
   "execution_count": 2,
   "metadata": {},
   "outputs": [],
   "source": [
    "text = \"\"\"Transformation of chronic lymphocytic leukaemia (CLL) to diffuse large B-cell lymphoma (DLCBL) type Richter's syndrome (RS) carries a dismal prognosis. Standard-of-care chemoimmunotherapy for de novo RS is inadequate with median survival of less than one year. Patients are frequently elderly or have co-morbidities limiting dose-intense chemotherapy. Treatment of relapsed/refractory (R/R) RS and RS emerging after CLL-directed therapy represent urgent unmet clinical needs. Agents targeting Bruton's tyrosine kinase (BTK) deliver improved outcomes for patients with high-risk CLL and expand effective treatments to frailer patients. Acalabrutinib is an oral, second-generation BTK inhibitor with a favourable toxicity profile and demonstrated activity in CLL and B-cell lymphomas. Combination of acalabrutinib with standard-of-care CHOP-R chemoimmunotherapy offers a sound rationale to test in a prospective trial for de novo RS. The prospective multicentre STELLAR study is designed in two elements, consisting of a randomised study to evaluate the safety and activity of CHOP-R chemoimmunotherapy in combination with acalabrutinib in newly diagnosed RS and single-arm studies of novel agents for other RS patient cohorts. Eligible patients with newly diagnosed DLBCL-type RS are randomised between six cycles of CHOP-R therapy and six cycles CHOP-R plus acalabrutinib, followed by acalabrutinib maintenance. The primary endpoint of the randomised component is progression free survival (PFS). Cohort 1 enrols RS patients with progressive disease following chemoimmunotherapy for acalabrutinib monotherapy. Patients with RS diagnosed while on ibrutinib may enrol in Cohort 2, a single-arm study of CHOP-R plus acalabrutinib. The primary endpoint for the single-arm studies is overall response rate (ORR). Secondary endpoints for all cohorts are overall survival (OS), quality of life and proportion of patients proceeding to stem cell transplantation. The study will be accompanied by exploratory analysis of the mutational landscape of RS and the relationship between dynamic changes in sequential circulating tumour DNA samples and clinical outcomes. The STELLAR randomised trial evaluates the role of CHOP-R plus acalabrutinib in newly diagnosed RS patients. The single-arm platform studies enable the incorporation of promising novel therapies into the protocol. The STELLAR study has potential to identify novel biomarkers of treatment response in this high-risk malignancy\"\"\"\n",
    "nlp = spacy.load('en_core_sci_lg')\n",
    "doc = nlp(text)"
   ]
  },
  {
   "cell_type": "code",
   "execution_count": 3,
   "metadata": {},
   "outputs": [],
   "source": [
    "tokens = [token.text+' NN O O' for token in doc]"
   ]
  },
  {
   "cell_type": "code",
   "execution_count": 4,
   "metadata": {},
   "outputs": [],
   "source": [
    "with open('abstr.txt', 'w') as f:\n",
    "    f.write('-DOCSTART-\\n')\n",
    "    for sent in doc.sents:\n",
    "        tokens = [token.text+' NN O O' for token in sent]\n",
    "        f.write('\\n')\n",
    "        for item in tokens:\n",
    "            f.write(\"%s\\n\" % item.strip())"
   ]
  },
  {
   "cell_type": "code",
   "execution_count": 5,
   "metadata": {},
   "outputs": [
    {
     "data": {
      "text/plain": [
       "[Transformation of chronic lymphocytic leukaemia (CLL) to diffuse large B-cell lymphoma (DLCBL) type Richter's syndrome (RS) carries a dismal prognosis.,\n",
       " Standard-of-care chemoimmunotherapy for de novo RS is inadequate with median survival of less than one year.,\n",
       " Patients are frequently elderly or have co-morbidities limiting dose-intense chemotherapy.,\n",
       " Treatment of relapsed/refractory (R/R) RS and RS emerging after CLL-directed therapy represent urgent unmet clinical needs.,\n",
       " Agents targeting Bruton's tyrosine kinase (BTK) deliver improved outcomes for patients with high-risk CLL and expand effective treatments to frailer patients.,\n",
       " Acalabrutinib is an oral, second-generation BTK inhibitor with a favourable toxicity profile and demonstrated activity in CLL and B-cell lymphomas.,\n",
       " Combination of acalabrutinib with standard-of-care CHOP-R chemoimmunotherapy offers a sound rationale to test in a prospective trial for de novo RS.,\n",
       " The prospective multicentre STELLAR study is designed in two elements, consisting of a randomised study to evaluate the safety and activity of CHOP-R chemoimmunotherapy in combination with acalabrutinib in newly diagnosed RS and single-arm studies of novel agents for other RS patient cohorts.,\n",
       " Eligible patients with newly diagnosed DLBCL-type RS are randomised between six cycles of CHOP-R therapy and six cycles CHOP-R plus acalabrutinib, followed by acalabrutinib maintenance.,\n",
       " The primary endpoint of the randomised component is progression free survival (PFS).,\n",
       " Cohort 1 enrols RS patients with progressive disease following chemoimmunotherapy for acalabrutinib monotherapy.,\n",
       " Patients with RS diagnosed while on ibrutinib may enrol in Cohort 2, a single-arm study of CHOP-R plus acalabrutinib.,\n",
       " The primary endpoint for the single-arm studies is overall response rate (ORR).,\n",
       " Secondary endpoints for all cohorts are overall survival (OS), quality of life and proportion of patients proceeding to stem cell transplantation.,\n",
       " The study will be accompanied by exploratory analysis of the mutational landscape of RS and the relationship between dynamic changes in sequential circulating tumour DNA samples and clinical outcomes.,\n",
       " The STELLAR randomised trial evaluates the role of CHOP-R plus acalabrutinib in newly diagnosed RS patients.,\n",
       " The single-arm platform studies enable the incorporation of promising novel therapies into the protocol.,\n",
       " The STELLAR study has potential to identify novel biomarkers of treatment response in this high-risk malignancy]"
      ]
     },
     "execution_count": 5,
     "metadata": {},
     "output_type": "execute_result"
    }
   ],
   "source": [
    "list(doc.sents)"
   ]
  },
  {
   "cell_type": "code",
   "execution_count": null,
   "metadata": {},
   "outputs": [],
   "source": []
  }
 ],
 "metadata": {
  "kernelspec": {
   "display_name": "Python 3",
   "language": "python",
   "name": "python3"
  },
  "language_info": {
   "codemirror_mode": {
    "name": "ipython",
    "version": 3
   },
   "file_extension": ".py",
   "mimetype": "text/x-python",
   "name": "python",
   "nbconvert_exporter": "python",
   "pygments_lexer": "ipython3",
   "version": "3.6.8"
  }
 },
 "nbformat": 4,
 "nbformat_minor": 2
}
