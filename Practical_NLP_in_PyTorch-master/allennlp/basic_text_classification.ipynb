{
 "cells": [
  {
   "cell_type": "code",
   "execution_count": 1,
   "metadata": {},
   "outputs": [],
   "source": [
    "%load_ext autoreload\n",
    "%autoreload 2"
   ]
  },
  {
   "cell_type": "code",
   "execution_count": 2,
   "metadata": {},
   "outputs": [],
   "source": [
    "from pathlib import Path\n",
    "from typing import *\n",
    "import torch\n",
    "import torch.optim as optim\n",
    "import numpy as np\n",
    "import pandas as pd\n",
    "from functools import partial\n",
    "from overrides import overrides\n",
    "\n",
    "from allennlp.data import Instance\n",
    "from allennlp.data.token_indexers import TokenIndexer\n",
    "from allennlp.data.tokenizers import Token\n",
    "from allennlp.nn import util as nn_util"
   ]
  },
  {
   "cell_type": "code",
   "execution_count": 3,
   "metadata": {},
   "outputs": [],
   "source": [
    "class Config(dict):\n",
    "    def __init__(self, **kwargs):\n",
    "        super().__init__(**kwargs)\n",
    "        for k, v in kwargs.items():\n",
    "            setattr(self, k, v)\n",
    "    \n",
    "    def set(self, key, val):\n",
    "        self[key] = val\n",
    "        setattr(self, key, val)\n",
    "        \n",
    "config = Config(\n",
    "    testing=True,\n",
    "    seed=1,\n",
    "    batch_size=32,\n",
    "    lr=3e-4,\n",
    "    epochs=2,\n",
    "    hidden_sz=64,\n",
    "    max_seq_len=100, # necessary to limit memory usage\n",
    "    max_vocab_size=100000,\n",
    ")"
   ]
  },
  {
   "cell_type": "code",
   "execution_count": 4,
   "metadata": {},
   "outputs": [],
   "source": [
    "from allennlp.common.checks import ConfigurationError"
   ]
  },
  {
   "cell_type": "code",
   "execution_count": 5,
   "metadata": {},
   "outputs": [],
   "source": [
    "USE_GPU = torch.cuda.is_available()"
   ]
  },
  {
   "cell_type": "code",
   "execution_count": 6,
   "metadata": {},
   "outputs": [],
   "source": [
    "DATA_ROOT = Path(\"../data\") / \"jigsaw\""
   ]
  },
  {
   "cell_type": "code",
   "execution_count": null,
   "metadata": {},
   "outputs": [],
   "source": []
  },
  {
   "cell_type": "markdown",
   "metadata": {},
   "source": [
    "Set random seed manually to replicate results"
   ]
  },
  {
   "cell_type": "code",
   "execution_count": 7,
   "metadata": {},
   "outputs": [
    {
     "data": {
      "text/plain": [
       "<torch._C.Generator at 0x7fc7d2cf9d70>"
      ]
     },
     "execution_count": 7,
     "metadata": {},
     "output_type": "execute_result"
    }
   ],
   "source": [
    "torch.manual_seed(config.seed)"
   ]
  },
  {
   "cell_type": "code",
   "execution_count": null,
   "metadata": {},
   "outputs": [],
   "source": []
  },
  {
   "cell_type": "markdown",
   "metadata": {},
   "source": [
    "# Load Data"
   ]
  },
  {
   "cell_type": "code",
   "execution_count": 8,
   "metadata": {},
   "outputs": [],
   "source": [
    "from allennlp.data.vocabulary import Vocabulary\n",
    "from allennlp.data.dataset_readers import DatasetReader"
   ]
  },
  {
   "cell_type": "code",
   "execution_count": null,
   "metadata": {},
   "outputs": [],
   "source": []
  },
  {
   "cell_type": "markdown",
   "metadata": {},
   "source": [
    "### Prepare dataset"
   ]
  },
  {
   "cell_type": "code",
   "execution_count": 9,
   "metadata": {},
   "outputs": [],
   "source": [
    "label_cols = [\"toxic\", \"severe_toxic\", \"obscene\",\n",
    "              \"threat\", \"insult\", \"identity_hate\"]"
   ]
  },
  {
   "cell_type": "code",
   "execution_count": 10,
   "metadata": {},
   "outputs": [],
   "source": [
    "from allennlp.data.fields import TextField, MetadataField, ArrayField\n",
    "\n",
    "class JigsawDatasetReader(DatasetReader):\n",
    "    def __init__(self, tokenizer: Callable[[str], List[str]]=lambda x: x.split(),\n",
    "                 token_indexers: Dict[str, TokenIndexer] = None,\n",
    "                 max_seq_len: Optional[int]=config.max_seq_len) -> None:\n",
    "        super().__init__(lazy=False)\n",
    "        self.tokenizer = tokenizer\n",
    "        self.token_indexers = token_indexers or {\"tokens\": SingleIdTokenIndexer()}\n",
    "        self.max_seq_len = max_seq_len\n",
    "\n",
    "    @overrides\n",
    "    def text_to_instance(self, tokens: List[Token], id: str=None,\n",
    "                         labels: np.ndarray=None) -> Instance:\n",
    "        sentence_field = TextField(tokens, self.token_indexers)\n",
    "        fields = {\"tokens\": sentence_field}\n",
    "        \n",
    "        id_field = MetadataField(id)\n",
    "        fields[\"id\"] = id_field\n",
    "        \n",
    "        if labels is None:\n",
    "            labels = np.zeros(len(label_cols))\n",
    "        label_field = ArrayField(array=labels)\n",
    "        fields[\"label\"] = label_field\n",
    "\n",
    "        return Instance(fields)\n",
    "    \n",
    "    @overrides\n",
    "    def _read(self, file_path: str) -> Iterator[Instance]:\n",
    "        df = pd.read_csv(file_path)\n",
    "        if config.testing: df = df.head(1000)\n",
    "        for i, row in df.iterrows():\n",
    "            yield self.text_to_instance(\n",
    "                [Token(x) for x in self.tokenizer(row[\"comment_text\"])],\n",
    "                row[\"id\"], row[label_cols].values,\n",
    "            )"
   ]
  },
  {
   "cell_type": "code",
   "execution_count": null,
   "metadata": {},
   "outputs": [],
   "source": []
  },
  {
   "cell_type": "markdown",
   "metadata": {},
   "source": [
    "### Prepare token handlers"
   ]
  },
  {
   "cell_type": "markdown",
   "metadata": {},
   "source": [
    "We will use the spacy tokenizer here"
   ]
  },
  {
   "cell_type": "code",
   "execution_count": 94,
   "metadata": {},
   "outputs": [],
   "source": [
    "from allennlp.data.tokenizers.word_splitter import SpacyWordSplitter\n",
    "from allennlp.data.token_indexers import SingleIdTokenIndexer\n",
    "\n",
    "# the token indexer is responsible for mapping tokens to integers\n",
    "token_indexer = SingleIdTokenIndexer()\n",
    "\n",
    "def tokenizer(x: str):\n",
    "    return [w.text for w in\n",
    "            SpacyWordSplitter(language='en_core_web_sm', \n",
    "                              pos_tags=False).split_words(x)[:config.max_seq_len]]"
   ]
  },
  {
   "cell_type": "code",
   "execution_count": 95,
   "metadata": {},
   "outputs": [],
   "source": [
    "reader = JigsawDatasetReader(\n",
    "    tokenizer=tokenizer,\n",
    "    token_indexers={\"tokens\": token_indexer}\n",
    ")"
   ]
  },
  {
   "cell_type": "code",
   "execution_count": 96,
   "metadata": {},
   "outputs": [
    {
     "name": "stderr",
     "output_type": "stream",
     "text": [
      "267it [00:00, 1252.37it/s]\n",
      "251it [00:00, 1291.15it/s]\n"
     ]
    }
   ],
   "source": [
    "train_ds, test_ds = (reader.read(DATA_ROOT / fname) for fname in [\"train.csv\", \"test_proced.csv\"])\n",
    "val_ds = None"
   ]
  },
  {
   "cell_type": "code",
   "execution_count": 97,
   "metadata": {},
   "outputs": [
    {
     "data": {
      "text/plain": [
       "267"
      ]
     },
     "execution_count": 97,
     "metadata": {},
     "output_type": "execute_result"
    }
   ],
   "source": [
    "len(train_ds)"
   ]
  },
  {
   "cell_type": "code",
   "execution_count": 98,
   "metadata": {},
   "outputs": [
    {
     "data": {
      "text/plain": [
       "[<allennlp.data.instance.Instance at 0x7efd2844da20>,\n",
       " <allennlp.data.instance.Instance at 0x7efd286c20b8>,\n",
       " <allennlp.data.instance.Instance at 0x7efd284373c8>,\n",
       " <allennlp.data.instance.Instance at 0x7efd28447860>,\n",
       " <allennlp.data.instance.Instance at 0x7efd2842a6a0>,\n",
       " <allennlp.data.instance.Instance at 0x7efd28463ef0>,\n",
       " <allennlp.data.instance.Instance at 0x7efd2842c1d0>,\n",
       " <allennlp.data.instance.Instance at 0x7efd281ea8d0>,\n",
       " <allennlp.data.instance.Instance at 0x7efd28450630>,\n",
       " <allennlp.data.instance.Instance at 0x7efd28124b70>]"
      ]
     },
     "execution_count": 98,
     "metadata": {},
     "output_type": "execute_result"
    }
   ],
   "source": [
    "train_ds[:10]"
   ]
  },
  {
   "cell_type": "code",
   "execution_count": 99,
   "metadata": {},
   "outputs": [
    {
     "data": {
      "text/plain": [
       "{'tokens': [Explanation,\n",
       "  Why,\n",
       "  the,\n",
       "  edits,\n",
       "  made,\n",
       "  under,\n",
       "  my,\n",
       "  username,\n",
       "  Hardcore,\n",
       "  Metallica,\n",
       "  Fan,\n",
       "  were,\n",
       "  reverted,\n",
       "  ?,\n",
       "  They,\n",
       "  were,\n",
       "  n't,\n",
       "  vandalisms,\n",
       "  ,,\n",
       "  just,\n",
       "  closure,\n",
       "  on,\n",
       "  some,\n",
       "  GAs,\n",
       "  after,\n",
       "  I,\n",
       "  voted,\n",
       "  at,\n",
       "  New,\n",
       "  York,\n",
       "  Dolls,\n",
       "  FAC,\n",
       "  .,\n",
       "  And,\n",
       "  please,\n",
       "  do,\n",
       "  n't,\n",
       "  remove,\n",
       "  the,\n",
       "  template,\n",
       "  from,\n",
       "  the,\n",
       "  talk,\n",
       "  page,\n",
       "  since,\n",
       "  I,\n",
       "  'm,\n",
       "  retired,\n",
       "  now.89.205.38.27],\n",
       " '_token_indexers': {'tokens': <allennlp.data.token_indexers.single_id_token_indexer.SingleIdTokenIndexer at 0x7efd286ce128>},\n",
       " '_indexed_tokens': None,\n",
       " '_indexer_name_to_indexed_token': None,\n",
       " '_token_index_to_indexer_name': None}"
      ]
     },
     "execution_count": 99,
     "metadata": {},
     "output_type": "execute_result"
    }
   ],
   "source": [
    "vars(train_ds[0].fields[\"tokens\"])"
   ]
  },
  {
   "cell_type": "code",
   "execution_count": null,
   "metadata": {},
   "outputs": [],
   "source": []
  },
  {
   "cell_type": "markdown",
   "metadata": {},
   "source": [
    "### Prepare vocabulary"
   ]
  },
  {
   "cell_type": "code",
   "execution_count": 100,
   "metadata": {},
   "outputs": [
    {
     "name": "stderr",
     "output_type": "stream",
     "text": [
      "100%|██████████| 267/267 [00:00<00:00, 39300.90it/s]\n"
     ]
    }
   ],
   "source": [
    "vocab = Vocabulary.from_instances(train_ds, max_vocab_size=config.max_vocab_size)"
   ]
  },
  {
   "cell_type": "code",
   "execution_count": null,
   "metadata": {},
   "outputs": [],
   "source": []
  },
  {
   "cell_type": "markdown",
   "metadata": {},
   "source": [
    "### Prepare iterator"
   ]
  },
  {
   "cell_type": "markdown",
   "metadata": {},
   "source": [
    "The iterator is responsible for batching the data and preparing it for input into the model. We'll use the BucketIterator that batches text sequences of smilar lengths together."
   ]
  },
  {
   "cell_type": "code",
   "execution_count": 101,
   "metadata": {},
   "outputs": [],
   "source": [
    "from allennlp.data.iterators import BucketIterator"
   ]
  },
  {
   "cell_type": "code",
   "execution_count": 102,
   "metadata": {},
   "outputs": [],
   "source": [
    "iterator = BucketIterator(batch_size=config.batch_size, \n",
    "                          sorting_keys=[(\"tokens\", \"num_tokens\")],\n",
    "                         )"
   ]
  },
  {
   "cell_type": "markdown",
   "metadata": {},
   "source": [
    "We need to tell the iterator how to numericalize the text data. We do this by passing the vocabulary to the iterator. This step is easy to forget so be careful! "
   ]
  },
  {
   "cell_type": "code",
   "execution_count": 103,
   "metadata": {},
   "outputs": [],
   "source": [
    "iterator.index_with(vocab)"
   ]
  },
  {
   "cell_type": "markdown",
   "metadata": {},
   "source": [
    "### Read sample"
   ]
  },
  {
   "cell_type": "code",
   "execution_count": 104,
   "metadata": {},
   "outputs": [],
   "source": [
    "batch = next(iter(iterator(train_ds)))"
   ]
  },
  {
   "cell_type": "code",
   "execution_count": 105,
   "metadata": {},
   "outputs": [
    {
     "data": {
      "text/plain": [
       "{'tokens': {'tokens': tensor([[   5,   23,   23,  ...,    3,  805, 1588],\n",
       "          [   5,  870,   10,  ...,   57,  347,   35],\n",
       "          [   5,  103,    5,  ..., 2925,    3,   11],\n",
       "          ...,\n",
       "          [   5, 1309,   22,  ...,   57,  141,   31],\n",
       "          [   7,   25,  392,  ...,   73, 1407,   23],\n",
       "          [   5, 1589,    3,  ...,    5,   16,  810]])},\n",
       " 'id': ['001d874a4d3e8813',\n",
       "  '00328eadb85b3010',\n",
       "  '00822d0d01752c7e',\n",
       "  '004b073d5b456b15',\n",
       "  '008a1e9c45de8138',\n",
       "  '00584d887401f47b',\n",
       "  '00037261f536c51d',\n",
       "  '00905910dcbcc8aa',\n",
       "  '003a19c04c079bf7',\n",
       "  '005e6b1369cbe377',\n",
       "  '0038d1dc2ad29469',\n",
       "  '0001b41b1c6bb37e',\n",
       "  '0034065c7b12a7a2',\n",
       "  '0033b9d5ccd499fb',\n",
       "  '0091aec11b57d12e',\n",
       "  '003b9f448ee4a29d',\n",
       "  '002746baedcdff10',\n",
       "  '00a317acddff8a62',\n",
       "  '00a7d82371e10c5d',\n",
       "  '00151a9f93c6b059',\n",
       "  '0048de0c9422f64f',\n",
       "  '0006f16e4e9f292e',\n",
       "  '004b975fabbbffa9',\n",
       "  '0021fe88bc4da3e6',\n",
       "  '00882ab8cfa42274',\n",
       "  '0063a8786a7034fc',\n",
       "  '006774d59329b7bd',\n",
       "  '00218d74784ce50b',\n",
       "  '007e1e47cd0e2fec',\n",
       "  '000c0dfd995809fa',\n",
       "  '001363e1dbe91225',\n",
       "  '001d8e7be417776a'],\n",
       " 'label': tensor([[0., 0., 0., 0., 0., 0.],\n",
       "         [0., 0., 0., 0., 0., 0.],\n",
       "         [0., 0., 0., 0., 0., 0.],\n",
       "         [0., 0., 0., 0., 0., 0.],\n",
       "         [0., 0., 0., 0., 0., 0.],\n",
       "         [0., 0., 0., 0., 0., 0.],\n",
       "         [0., 0., 0., 0., 0., 0.],\n",
       "         [0., 0., 0., 0., 0., 0.],\n",
       "         [0., 0., 0., 0., 0., 0.],\n",
       "         [0., 0., 0., 0., 0., 0.],\n",
       "         [0., 0., 0., 0., 0., 0.],\n",
       "         [0., 0., 0., 0., 0., 0.],\n",
       "         [0., 0., 0., 0., 0., 0.],\n",
       "         [0., 0., 0., 0., 0., 0.],\n",
       "         [0., 0., 0., 0., 0., 0.],\n",
       "         [0., 0., 0., 0., 0., 0.],\n",
       "         [0., 0., 0., 0., 0., 0.],\n",
       "         [0., 0., 0., 0., 0., 0.],\n",
       "         [0., 0., 0., 0., 0., 0.],\n",
       "         [0., 0., 0., 0., 0., 0.],\n",
       "         [0., 0., 0., 0., 0., 0.],\n",
       "         [0., 0., 0., 0., 0., 0.],\n",
       "         [0., 0., 0., 0., 0., 0.],\n",
       "         [1., 0., 1., 0., 0., 0.],\n",
       "         [0., 0., 0., 0., 0., 0.],\n",
       "         [0., 0., 0., 0., 0., 0.],\n",
       "         [0., 0., 0., 0., 0., 0.],\n",
       "         [0., 0., 0., 0., 0., 0.],\n",
       "         [0., 0., 0., 0., 0., 0.],\n",
       "         [0., 0., 0., 0., 0., 0.],\n",
       "         [0., 0., 0., 0., 0., 0.],\n",
       "         [0., 0., 0., 0., 0., 0.]])}"
      ]
     },
     "execution_count": 105,
     "metadata": {},
     "output_type": "execute_result"
    }
   ],
   "source": [
    "batch"
   ]
  },
  {
   "cell_type": "code",
   "execution_count": 106,
   "metadata": {},
   "outputs": [
    {
     "data": {
      "text/plain": [
       "tensor([[   5,   23,   23,  ...,    3,  805, 1588],\n",
       "        [   5,  870,   10,  ...,   57,  347,   35],\n",
       "        [   5,  103,    5,  ..., 2925,    3,   11],\n",
       "        ...,\n",
       "        [   5, 1309,   22,  ...,   57,  141,   31],\n",
       "        [   7,   25,  392,  ...,   73, 1407,   23],\n",
       "        [   5, 1589,    3,  ...,    5,   16,  810]])"
      ]
     },
     "execution_count": 106,
     "metadata": {},
     "output_type": "execute_result"
    }
   ],
   "source": [
    "batch[\"tokens\"][\"tokens\"]"
   ]
  },
  {
   "cell_type": "code",
   "execution_count": 61,
   "metadata": {},
   "outputs": [
    {
     "data": {
      "text/plain": [
       "torch.Size([32, 19])"
      ]
     },
     "execution_count": 61,
     "metadata": {},
     "output_type": "execute_result"
    }
   ],
   "source": [
    "batch[\"tokens\"][\"tokens\"].shape"
   ]
  },
  {
   "cell_type": "code",
   "execution_count": null,
   "metadata": {},
   "outputs": [],
   "source": []
  },
  {
   "cell_type": "markdown",
   "metadata": {},
   "source": [
    "# Prepare Model"
   ]
  },
  {
   "cell_type": "code",
   "execution_count": 62,
   "metadata": {},
   "outputs": [],
   "source": [
    "import torch\n",
    "import torch.nn as nn\n",
    "import torch.optim as optim"
   ]
  },
  {
   "cell_type": "code",
   "execution_count": 63,
   "metadata": {},
   "outputs": [],
   "source": [
    "from allennlp.modules.seq2vec_encoders import Seq2VecEncoder, PytorchSeq2VecWrapper\n",
    "from allennlp.nn.util import get_text_field_mask\n",
    "from allennlp.models import Model\n",
    "from allennlp.modules.text_field_embedders import TextFieldEmbedder\n",
    "\n",
    "class BaselineModel(Model):\n",
    "    def __init__(self, word_embeddings: TextFieldEmbedder,\n",
    "                 encoder: Seq2VecEncoder,\n",
    "                 out_sz: int=len(label_cols)):\n",
    "        super().__init__(vocab)\n",
    "        self.word_embeddings = word_embeddings\n",
    "        self.encoder = encoder\n",
    "        self.projection = nn.Linear(self.encoder.get_output_dim(), out_sz)\n",
    "        self.loss = nn.BCEWithLogitsLoss()\n",
    "        \n",
    "    def forward(self, tokens: Dict[str, torch.Tensor],\n",
    "                id: Any, label: torch.Tensor) -> torch.Tensor:\n",
    "        mask = get_text_field_mask(tokens)\n",
    "        embeddings = self.word_embeddings(tokens)\n",
    "        state = self.encoder(embeddings, mask)\n",
    "        class_logits = self.projection(state)\n",
    "        \n",
    "        output = {\"class_logits\": class_logits}\n",
    "        output[\"loss\"] = self.loss(class_logits, label)\n",
    "\n",
    "        return output"
   ]
  },
  {
   "cell_type": "markdown",
   "metadata": {},
   "source": [
    "### Prepare embeddings"
   ]
  },
  {
   "cell_type": "code",
   "execution_count": 64,
   "metadata": {},
   "outputs": [],
   "source": [
    "from allennlp.modules.token_embedders import Embedding\n",
    "from allennlp.modules.text_field_embedders import BasicTextFieldEmbedder\n",
    "\n",
    "token_embedding = Embedding(num_embeddings=config.max_vocab_size + 2,\n",
    "                            embedding_dim=300, padding_index=0)\n",
    "# the embedder maps the input tokens to the appropriate embedding matrix\n",
    "word_embeddings: TextFieldEmbedder = BasicTextFieldEmbedder({\"tokens\": token_embedding})"
   ]
  },
  {
   "cell_type": "code",
   "execution_count": 65,
   "metadata": {},
   "outputs": [],
   "source": [
    "from allennlp.modules.seq2vec_encoders import PytorchSeq2VecWrapper\n",
    "encoder: Seq2VecEncoder = PytorchSeq2VecWrapper(nn.LSTM(word_embeddings.get_output_dim(),\n",
    "                                                        config.hidden_sz, bidirectional=True, batch_first=True))"
   ]
  },
  {
   "cell_type": "markdown",
   "metadata": {},
   "source": [
    "Notice how simple and modular the code for initializing the model is. All the complexity is delegated to each component."
   ]
  },
  {
   "cell_type": "code",
   "execution_count": 66,
   "metadata": {},
   "outputs": [],
   "source": [
    "model = BaselineModel(\n",
    "    word_embeddings, \n",
    "    encoder, \n",
    ")"
   ]
  },
  {
   "cell_type": "code",
   "execution_count": 67,
   "metadata": {},
   "outputs": [],
   "source": [
    "if USE_GPU: model.cuda()\n",
    "else: model\n",
    "#device = torch.device('cpu')\n",
    "#model = model.to(device)"
   ]
  },
  {
   "cell_type": "code",
   "execution_count": null,
   "metadata": {},
   "outputs": [],
   "source": [
    "\n"
   ]
  },
  {
   "cell_type": "markdown",
   "metadata": {},
   "source": [
    "# Basic sanity checks"
   ]
  },
  {
   "cell_type": "code",
   "execution_count": 68,
   "metadata": {},
   "outputs": [],
   "source": [
    "batch = nn_util.move_to_device(batch, 0 if USE_GPU else -1)"
   ]
  },
  {
   "cell_type": "code",
   "execution_count": 69,
   "metadata": {},
   "outputs": [],
   "source": [
    "tokens = batch[\"tokens\"]\n",
    "labels = batch"
   ]
  },
  {
   "cell_type": "code",
   "execution_count": 70,
   "metadata": {},
   "outputs": [
    {
     "data": {
      "text/plain": [
       "{'tokens': tensor([[2812,   11, 2813,   42,  205,  272, 1054,   73, 2814,  604,    3,  817,\n",
       "             0,    0,    0,    0,    0,    0,    0],\n",
       "         [1219,   21,    8,  259,   11,  469,  470,   14,   24,  375,  311,    4,\n",
       "          1220,   29,    0,    0,    0,    0,    0],\n",
       "         [2729,   32, 2730,   23, 2731, 2732, 2733, 2734,    2, 2735,   32,   49,\n",
       "            31,    5,    0,    0,    0,    0,    0],\n",
       "         [ 859,   13,    4, 2653,   12,    4,  151,  217,    6, 2654,    2,   74,\n",
       "            34,    0,    0,    0,    0,    0,    0],\n",
       "         [  42, 2479, 1028,   72, 2480,    2,   42, 2481, 1028,   89,   16,    2,\n",
       "             0,    0,    0,    0,    0,    0,    0],\n",
       "         [ 240,   79,  169,   25,  209,  936,   27,   62,  191,   41,   94,   82,\n",
       "            23,    0,    0,    0,    0,    0,    0],\n",
       "         [1281,   34,  158,   30,  123,    3,  318,   35,   75,   10, 1282,  178,\n",
       "            34, 1283,    2,    0,    0,    0,    0],\n",
       "         [ 651,   22,  322,  852,  206,    3,   76,   22, 1765,   15,    4, 1766,\n",
       "             2,    0,    0,    0,    0,    0,    0],\n",
       "         [  86,    3,  128,    3,  496,    2, 3051,   40,   68,    9,  139,   75,\n",
       "             2,    0,    0,    0,    0,    0,    0],\n",
       "         [1390,  732,   45,   18,   38,   44,  499,  733,  734, 1391,  735,    2,\n",
       "           149,    0,    0,    0,    0,    0,    0],\n",
       "         [  71, 1638, 1639,   12,  823,    8, 1640,    2,  173, 1641,   47, 1642,\n",
       "            81,  120, 1643,    2,    0,    0,    0],\n",
       "         [   3,   11,  259,   55,   97,  973,  146,  167,  133,  106, 1101, 3244,\n",
       "            33,  238,   77, 3245,    0,    0,    0],\n",
       "         [ 498,  234,   44,    8, 1386,   10,   80, 1387,   17, 1388,   80,   68,\n",
       "            92,   14, 1389,   29,    0,    0,    0],\n",
       "         [   5,  166,   74,   17,  284,  595,  167,    2,  586,    9,  220,   31,\n",
       "           179,    5,    0,    0,    0,    0,    0],\n",
       "         [   5, 2011,    2,    7,  110,   16,  793,    4,  241,    2,   32,   49,\n",
       "            31,    5,    0,    0,    0,    0,    0],\n",
       "         [1851,    9,  416, 1852,   81,    3,    9,   26,   30,  896,  249,    3,\n",
       "          1853,    8,  561, 1854,    2,    0,    0],\n",
       "         [   5, 1189,   51,   40,   27,  140,    3,  107,    4, 1190,  140,    2,\n",
       "           462,   49,    5,    0,    0,    0,    0],\n",
       "         [2009,   78,  527,  248,   10,    4, 2010,   38,   12,   16,  399,   78,\n",
       "           951,   10,  489,    2,    0,    0,    0],\n",
       "         [  91,   72,    8,  159,    3,   11,   14,   19,  116, 1555,   28,  527,\n",
       "           669,  518,   73, 1556,    2,    0,    0],\n",
       "         [ 245, 3385,   10, 3386, 3387, 3388, 3389, 3390, 3391,   22, 3392, 3393,\n",
       "            19,   11,   16, 3394,  109,    0,    0],\n",
       "         [ 166,   34,    7,  105,  178,  156,   34, 1811,  582,   34,  869, 1812,\n",
       "            41,   94,   35,  822,   34,    0,    0],\n",
       "         [  91,    3,  663,    3,   22,   41,  664,    2, 1187, 1188,    9,  461,\n",
       "            68,   39,   13,   19,   20,   29,    0],\n",
       "         [   5,   42,  713,   23, 1327,  487, 1328,  714,   18,  713,   15,  715,\n",
       "           716,   24,   39, 1329,    5,    0,    0],\n",
       "         [  60,   12, 3239,    6,  388,   13,  416, 1140, 3240,   45,    4,  121,\n",
       "          3241,   15, 1139,    2,    0,    0,    0],\n",
       "         [1137,  647,    8, 3165,  553,  163, 1137,  401,  839,    2, 1012,  647,\n",
       "          3166,    2, 1111, 3167, 3168, 3169,    0],\n",
       "         [ 707, 2809,  568,    6, 2810,    7,   33,   79, 2811,  253,   14,   25,\n",
       "            30,   40,   20,  351,   13,    0,    0],\n",
       "         [   7, 2964, 1094, 2965,  445, 2966,  369, 2967,   11,    7,  115,  297,\n",
       "            13, 2968, 2969, 2970,   25,  182,    2],\n",
       "         [   5, 1306,    6,   84,    2,  707,   40,    3,  708,    3,    7,   56,\n",
       "          1307, 1308,   31,    5,    0,    0,    0],\n",
       "         [ 327,   54,   52, 1898,  175,   88,  776,    4, 1899, 1900, 1901,   12,\n",
       "           911,   43, 1902,   19,  851,   29,    0],\n",
       "         [   7,  352,  295,    8,  632,   44, 2962,    3,  375,   13,   53,  129,\n",
       "             9,  357, 2963,    2,  300,    0,    0],\n",
       "         [3073, 3074,   51, 1123, 3075,   15, 3076, 3077,    2, 3078,  241,   13,\n",
       "             4, 1123,   25, 1124, 3079,    2,    0],\n",
       "         [ 759, 3360, 3361,   42, 3362,   10, 3363,  189, 3364,  149,  330, 3365,\n",
       "          3366, 3367,   23, 3368, 3369,    0,    0]])}"
      ]
     },
     "execution_count": 70,
     "metadata": {},
     "output_type": "execute_result"
    }
   ],
   "source": [
    "tokens"
   ]
  },
  {
   "cell_type": "code",
   "execution_count": 71,
   "metadata": {},
   "outputs": [
    {
     "data": {
      "text/plain": [
       "tensor([[1, 1, 1, 1, 1, 1, 1, 1, 1, 1, 1, 1, 0, 0, 0, 0, 0, 0, 0],\n",
       "        [1, 1, 1, 1, 1, 1, 1, 1, 1, 1, 1, 1, 1, 1, 0, 0, 0, 0, 0],\n",
       "        [1, 1, 1, 1, 1, 1, 1, 1, 1, 1, 1, 1, 1, 1, 0, 0, 0, 0, 0],\n",
       "        [1, 1, 1, 1, 1, 1, 1, 1, 1, 1, 1, 1, 1, 0, 0, 0, 0, 0, 0],\n",
       "        [1, 1, 1, 1, 1, 1, 1, 1, 1, 1, 1, 1, 0, 0, 0, 0, 0, 0, 0],\n",
       "        [1, 1, 1, 1, 1, 1, 1, 1, 1, 1, 1, 1, 1, 0, 0, 0, 0, 0, 0],\n",
       "        [1, 1, 1, 1, 1, 1, 1, 1, 1, 1, 1, 1, 1, 1, 1, 0, 0, 0, 0],\n",
       "        [1, 1, 1, 1, 1, 1, 1, 1, 1, 1, 1, 1, 1, 0, 0, 0, 0, 0, 0],\n",
       "        [1, 1, 1, 1, 1, 1, 1, 1, 1, 1, 1, 1, 1, 0, 0, 0, 0, 0, 0],\n",
       "        [1, 1, 1, 1, 1, 1, 1, 1, 1, 1, 1, 1, 1, 0, 0, 0, 0, 0, 0],\n",
       "        [1, 1, 1, 1, 1, 1, 1, 1, 1, 1, 1, 1, 1, 1, 1, 1, 0, 0, 0],\n",
       "        [1, 1, 1, 1, 1, 1, 1, 1, 1, 1, 1, 1, 1, 1, 1, 1, 0, 0, 0],\n",
       "        [1, 1, 1, 1, 1, 1, 1, 1, 1, 1, 1, 1, 1, 1, 1, 1, 0, 0, 0],\n",
       "        [1, 1, 1, 1, 1, 1, 1, 1, 1, 1, 1, 1, 1, 1, 0, 0, 0, 0, 0],\n",
       "        [1, 1, 1, 1, 1, 1, 1, 1, 1, 1, 1, 1, 1, 1, 0, 0, 0, 0, 0],\n",
       "        [1, 1, 1, 1, 1, 1, 1, 1, 1, 1, 1, 1, 1, 1, 1, 1, 1, 0, 0],\n",
       "        [1, 1, 1, 1, 1, 1, 1, 1, 1, 1, 1, 1, 1, 1, 1, 0, 0, 0, 0],\n",
       "        [1, 1, 1, 1, 1, 1, 1, 1, 1, 1, 1, 1, 1, 1, 1, 1, 0, 0, 0],\n",
       "        [1, 1, 1, 1, 1, 1, 1, 1, 1, 1, 1, 1, 1, 1, 1, 1, 1, 0, 0],\n",
       "        [1, 1, 1, 1, 1, 1, 1, 1, 1, 1, 1, 1, 1, 1, 1, 1, 1, 0, 0],\n",
       "        [1, 1, 1, 1, 1, 1, 1, 1, 1, 1, 1, 1, 1, 1, 1, 1, 1, 0, 0],\n",
       "        [1, 1, 1, 1, 1, 1, 1, 1, 1, 1, 1, 1, 1, 1, 1, 1, 1, 1, 0],\n",
       "        [1, 1, 1, 1, 1, 1, 1, 1, 1, 1, 1, 1, 1, 1, 1, 1, 1, 0, 0],\n",
       "        [1, 1, 1, 1, 1, 1, 1, 1, 1, 1, 1, 1, 1, 1, 1, 1, 0, 0, 0],\n",
       "        [1, 1, 1, 1, 1, 1, 1, 1, 1, 1, 1, 1, 1, 1, 1, 1, 1, 1, 0],\n",
       "        [1, 1, 1, 1, 1, 1, 1, 1, 1, 1, 1, 1, 1, 1, 1, 1, 1, 0, 0],\n",
       "        [1, 1, 1, 1, 1, 1, 1, 1, 1, 1, 1, 1, 1, 1, 1, 1, 1, 1, 1],\n",
       "        [1, 1, 1, 1, 1, 1, 1, 1, 1, 1, 1, 1, 1, 1, 1, 1, 0, 0, 0],\n",
       "        [1, 1, 1, 1, 1, 1, 1, 1, 1, 1, 1, 1, 1, 1, 1, 1, 1, 1, 0],\n",
       "        [1, 1, 1, 1, 1, 1, 1, 1, 1, 1, 1, 1, 1, 1, 1, 1, 1, 0, 0],\n",
       "        [1, 1, 1, 1, 1, 1, 1, 1, 1, 1, 1, 1, 1, 1, 1, 1, 1, 1, 0],\n",
       "        [1, 1, 1, 1, 1, 1, 1, 1, 1, 1, 1, 1, 1, 1, 1, 1, 1, 0, 0]])"
      ]
     },
     "execution_count": 71,
     "metadata": {},
     "output_type": "execute_result"
    }
   ],
   "source": [
    "mask = get_text_field_mask(tokens)\n",
    "mask"
   ]
  },
  {
   "cell_type": "code",
   "execution_count": 72,
   "metadata": {},
   "outputs": [
    {
     "data": {
      "text/plain": [
       "tensor([[-0.0388,  0.0792, -0.0304,  0.0286,  0.0153, -0.0261],\n",
       "        [-0.0384,  0.0808, -0.0330,  0.0290,  0.0156, -0.0258],\n",
       "        [-0.0397,  0.0801, -0.0309,  0.0281,  0.0164, -0.0257],\n",
       "        [-0.0392,  0.0812, -0.0321,  0.0293,  0.0146, -0.0260],\n",
       "        [-0.0387,  0.0804, -0.0316,  0.0303,  0.0162, -0.0256],\n",
       "        [-0.0391,  0.0807, -0.0318,  0.0291,  0.0183, -0.0262],\n",
       "        [-0.0398,  0.0803, -0.0328,  0.0282,  0.0166, -0.0253],\n",
       "        [-0.0377,  0.0797, -0.0305,  0.0277,  0.0168, -0.0246],\n",
       "        [-0.0405,  0.0805, -0.0317,  0.0289,  0.0170, -0.0241],\n",
       "        [-0.0403,  0.0815, -0.0304,  0.0279,  0.0166, -0.0264],\n",
       "        [-0.0370,  0.0800, -0.0305,  0.0282,  0.0159, -0.0240],\n",
       "        [-0.0387,  0.0817, -0.0302,  0.0292,  0.0162, -0.0279],\n",
       "        [-0.0375,  0.0825, -0.0316,  0.0292,  0.0156, -0.0270],\n",
       "        [-0.0388,  0.0807, -0.0306,  0.0266,  0.0170, -0.0245],\n",
       "        [-0.0390,  0.0805, -0.0314,  0.0264,  0.0167, -0.0253],\n",
       "        [-0.0398,  0.0801, -0.0304,  0.0286,  0.0161, -0.0250],\n",
       "        [-0.0395,  0.0803, -0.0296,  0.0262,  0.0167, -0.0251],\n",
       "        [-0.0387,  0.0787, -0.0293,  0.0294,  0.0161, -0.0243],\n",
       "        [-0.0393,  0.0805, -0.0300,  0.0296,  0.0160, -0.0261],\n",
       "        [-0.0401,  0.0812, -0.0303,  0.0271,  0.0170, -0.0256],\n",
       "        [-0.0386,  0.0811, -0.0316,  0.0284,  0.0161, -0.0252],\n",
       "        [-0.0400,  0.0812, -0.0308,  0.0289,  0.0160, -0.0279],\n",
       "        [-0.0392,  0.0801, -0.0315,  0.0270,  0.0165, -0.0246],\n",
       "        [-0.0379,  0.0804, -0.0305,  0.0295,  0.0157, -0.0254],\n",
       "        [-0.0402,  0.0794, -0.0316,  0.0299,  0.0175, -0.0252],\n",
       "        [-0.0396,  0.0812, -0.0319,  0.0286,  0.0155, -0.0265],\n",
       "        [-0.0392,  0.0795, -0.0316,  0.0282,  0.0160, -0.0238],\n",
       "        [-0.0385,  0.0797, -0.0302,  0.0259,  0.0169, -0.0243],\n",
       "        [-0.0390,  0.0821, -0.0315,  0.0278,  0.0168, -0.0267],\n",
       "        [-0.0400,  0.0800, -0.0320,  0.0279,  0.0163, -0.0250],\n",
       "        [-0.0396,  0.0794, -0.0303,  0.0286,  0.0177, -0.0242],\n",
       "        [-0.0406,  0.0805, -0.0309,  0.0276,  0.0158, -0.0252]],\n",
       "       grad_fn=<AddmmBackward>)"
      ]
     },
     "execution_count": 72,
     "metadata": {},
     "output_type": "execute_result"
    }
   ],
   "source": [
    "embeddings = model.word_embeddings(tokens)\n",
    "state = model.encoder(embeddings, mask)\n",
    "class_logits = model.projection(state)\n",
    "class_logits"
   ]
  },
  {
   "cell_type": "code",
   "execution_count": 73,
   "metadata": {},
   "outputs": [
    {
     "data": {
      "text/plain": [
       "{'class_logits': tensor([[-0.0388,  0.0792, -0.0304,  0.0286,  0.0153, -0.0261],\n",
       "         [-0.0384,  0.0808, -0.0330,  0.0290,  0.0156, -0.0258],\n",
       "         [-0.0397,  0.0801, -0.0309,  0.0281,  0.0164, -0.0257],\n",
       "         [-0.0392,  0.0812, -0.0321,  0.0293,  0.0146, -0.0260],\n",
       "         [-0.0387,  0.0804, -0.0316,  0.0303,  0.0162, -0.0256],\n",
       "         [-0.0391,  0.0807, -0.0318,  0.0291,  0.0183, -0.0262],\n",
       "         [-0.0398,  0.0803, -0.0328,  0.0282,  0.0166, -0.0253],\n",
       "         [-0.0377,  0.0797, -0.0305,  0.0277,  0.0168, -0.0246],\n",
       "         [-0.0405,  0.0805, -0.0317,  0.0289,  0.0170, -0.0241],\n",
       "         [-0.0403,  0.0815, -0.0304,  0.0279,  0.0166, -0.0264],\n",
       "         [-0.0370,  0.0800, -0.0305,  0.0282,  0.0159, -0.0240],\n",
       "         [-0.0387,  0.0817, -0.0302,  0.0292,  0.0162, -0.0279],\n",
       "         [-0.0375,  0.0825, -0.0316,  0.0292,  0.0156, -0.0270],\n",
       "         [-0.0388,  0.0807, -0.0306,  0.0266,  0.0170, -0.0245],\n",
       "         [-0.0390,  0.0805, -0.0314,  0.0264,  0.0167, -0.0253],\n",
       "         [-0.0398,  0.0801, -0.0304,  0.0286,  0.0161, -0.0250],\n",
       "         [-0.0395,  0.0803, -0.0296,  0.0262,  0.0167, -0.0251],\n",
       "         [-0.0387,  0.0787, -0.0293,  0.0294,  0.0161, -0.0243],\n",
       "         [-0.0393,  0.0805, -0.0300,  0.0296,  0.0160, -0.0261],\n",
       "         [-0.0401,  0.0812, -0.0303,  0.0271,  0.0170, -0.0256],\n",
       "         [-0.0386,  0.0811, -0.0316,  0.0284,  0.0161, -0.0252],\n",
       "         [-0.0400,  0.0812, -0.0308,  0.0289,  0.0160, -0.0279],\n",
       "         [-0.0392,  0.0801, -0.0315,  0.0270,  0.0165, -0.0246],\n",
       "         [-0.0379,  0.0804, -0.0305,  0.0295,  0.0157, -0.0254],\n",
       "         [-0.0402,  0.0794, -0.0316,  0.0299,  0.0175, -0.0252],\n",
       "         [-0.0396,  0.0812, -0.0319,  0.0286,  0.0155, -0.0265],\n",
       "         [-0.0392,  0.0795, -0.0316,  0.0282,  0.0160, -0.0238],\n",
       "         [-0.0385,  0.0797, -0.0302,  0.0259,  0.0169, -0.0243],\n",
       "         [-0.0390,  0.0821, -0.0315,  0.0278,  0.0168, -0.0267],\n",
       "         [-0.0400,  0.0800, -0.0320,  0.0279,  0.0163, -0.0250],\n",
       "         [-0.0396,  0.0794, -0.0303,  0.0286,  0.0177, -0.0242],\n",
       "         [-0.0406,  0.0805, -0.0309,  0.0276,  0.0158, -0.0252]],\n",
       "        grad_fn=<AddmmBackward>),\n",
       " 'loss': tensor(0.6969, grad_fn=<BinaryCrossEntropyWithLogitsBackward>)}"
      ]
     },
     "execution_count": 73,
     "metadata": {},
     "output_type": "execute_result"
    }
   ],
   "source": [
    "model(**batch)"
   ]
  },
  {
   "cell_type": "code",
   "execution_count": 74,
   "metadata": {},
   "outputs": [],
   "source": [
    "loss = model(**batch)[\"loss\"]"
   ]
  },
  {
   "cell_type": "code",
   "execution_count": 75,
   "metadata": {},
   "outputs": [
    {
     "data": {
      "text/plain": [
       "tensor(0.6969, grad_fn=<BinaryCrossEntropyWithLogitsBackward>)"
      ]
     },
     "execution_count": 75,
     "metadata": {},
     "output_type": "execute_result"
    }
   ],
   "source": [
    "loss"
   ]
  },
  {
   "cell_type": "code",
   "execution_count": 76,
   "metadata": {},
   "outputs": [],
   "source": [
    "loss.backward()"
   ]
  },
  {
   "cell_type": "code",
   "execution_count": null,
   "metadata": {},
   "outputs": [],
   "source": []
  },
  {
   "cell_type": "markdown",
   "metadata": {},
   "source": [
    "# Train"
   ]
  },
  {
   "cell_type": "code",
   "execution_count": 77,
   "metadata": {},
   "outputs": [],
   "source": [
    "optimizer = optim.Adam(model.parameters(), lr=config.lr)"
   ]
  },
  {
   "cell_type": "code",
   "execution_count": 78,
   "metadata": {},
   "outputs": [],
   "source": [
    "from allennlp.training.trainer import Trainer\n",
    "\n",
    "trainer = Trainer(\n",
    "    model=model,\n",
    "    optimizer=optimizer,\n",
    "    iterator=iterator,\n",
    "    train_dataset=train_ds,\n",
    "    cuda_device=0 if USE_GPU else -1,\n",
    "    num_epochs=config.epochs,\n",
    ")"
   ]
  },
  {
   "cell_type": "code",
   "execution_count": 79,
   "metadata": {},
   "outputs": [
    {
     "name": "stderr",
     "output_type": "stream",
     "text": [
      "loss: 0.6888 ||: 100%|██████████| 9/9 [00:01<00:00,  5.79it/s]\n",
      "loss: 0.6701 ||: 100%|██████████| 9/9 [00:01<00:00,  5.95it/s]\n"
     ]
    }
   ],
   "source": [
    "metrics = trainer.train()"
   ]
  },
  {
   "cell_type": "code",
   "execution_count": null,
   "metadata": {},
   "outputs": [],
   "source": []
  },
  {
   "cell_type": "markdown",
   "metadata": {},
   "source": [
    "# Generating Predictions"
   ]
  },
  {
   "cell_type": "markdown",
   "metadata": {},
   "source": [
    "AllenNLP is slightly lacking in its ability to convert datasets to predictions (though it has extensive support for converting single examples to predictions). Therefore, we'll write our own Predictor class to handle this job for us.\n",
    "\n",
    "Thankfully, a lot of the tools we used eariler can easily be extended to prediction. Here's how."
   ]
  },
  {
   "cell_type": "code",
   "execution_count": 80,
   "metadata": {},
   "outputs": [],
   "source": [
    "from allennlp.data.iterators import DataIterator\n",
    "from tqdm import tqdm\n",
    "from scipy.special import expit # the sigmoid function\n",
    "\n",
    "def tonp(tsr): return tsr.detach().cpu().numpy()\n",
    "\n",
    "class Predictor:\n",
    "    def __init__(self, model: Model, iterator: DataIterator,\n",
    "                 cuda_device: int=-1) -> None:\n",
    "        self.model = model\n",
    "        self.iterator = iterator\n",
    "        self.cuda_device = cuda_device\n",
    "        \n",
    "    def _extract_data(self, batch) -> np.ndarray:\n",
    "        out_dict = self.model(**batch)\n",
    "        return expit(tonp(out_dict[\"class_logits\"]))\n",
    "    \n",
    "    def predict(self, ds: Iterable[Instance]) -> np.ndarray:\n",
    "        pred_generator = self.iterator(ds, num_epochs=1, shuffle=False)\n",
    "        self.model.eval()\n",
    "        pred_generator_tqdm = tqdm(pred_generator,\n",
    "                                   total=self.iterator.get_num_batches(ds))\n",
    "        preds = []\n",
    "        with torch.no_grad():\n",
    "            for batch in pred_generator_tqdm:\n",
    "                batch = nn_util.move_to_device(batch, self.cuda_device)\n",
    "                preds.append(self._extract_data(batch))\n",
    "        return np.concatenate(preds, axis=0)"
   ]
  },
  {
   "cell_type": "markdown",
   "metadata": {},
   "source": [
    "We'll need a iterator that goes sequentially over our data. We'll use the "
   ]
  },
  {
   "cell_type": "code",
   "execution_count": 81,
   "metadata": {},
   "outputs": [],
   "source": [
    "from allennlp.data.iterators import BasicIterator\n",
    "# iterate over the dataset without changing its order\n",
    "seq_iterator = BasicIterator(batch_size=64)\n",
    "seq_iterator.index_with(vocab)"
   ]
  },
  {
   "cell_type": "code",
   "execution_count": 82,
   "metadata": {},
   "outputs": [
    {
     "name": "stderr",
     "output_type": "stream",
     "text": [
      "100%|██████████| 5/5 [00:00<00:00, 42.73it/s]\n",
      "100%|██████████| 4/4 [00:00<00:00, 37.44it/s]\n"
     ]
    }
   ],
   "source": [
    "predictor = Predictor(model, seq_iterator, cuda_device=0 if USE_GPU else -1)\n",
    "train_preds = predictor.predict(train_ds) \n",
    "test_preds = predictor.predict(test_ds) "
   ]
  },
  {
   "cell_type": "code",
   "execution_count": null,
   "metadata": {},
   "outputs": [],
   "source": []
  },
  {
   "cell_type": "markdown",
   "metadata": {},
   "source": [
    "# A Final Note on Predictors"
   ]
  },
  {
   "cell_type": "markdown",
   "metadata": {},
   "source": [
    "AllenNLP also provides predictors that take strings as input and outputs model predictions. They're handy if you want to create simple demo or need to make predictions on entirely new data, but since we've already read data as datasets and want to preserve their order, we didn't use them above. "
   ]
  },
  {
   "cell_type": "code",
   "execution_count": 83,
   "metadata": {},
   "outputs": [],
   "source": [
    "from allennlp.predictors.sentence_tagger import SentenceTaggerPredictor"
   ]
  },
  {
   "cell_type": "code",
   "execution_count": 84,
   "metadata": {},
   "outputs": [],
   "source": [
    "tagger = SentenceTaggerPredictor(model, reader)"
   ]
  },
  {
   "cell_type": "code",
   "execution_count": 85,
   "metadata": {},
   "outputs": [
    {
     "data": {
      "text/plain": [
       "{'class_logits': [-0.10390057414770126,\n",
       "  -0.004794597625732422,\n",
       "  -0.10375700891017914,\n",
       "  -0.031739577651023865,\n",
       "  -0.06213139370083809,\n",
       "  -0.10052867233753204],\n",
       " 'loss': 0.6600041389465332}"
      ]
     },
     "execution_count": 85,
     "metadata": {},
     "output_type": "execute_result"
    }
   ],
   "source": [
    "tagger.predict(\"this tutorial was great!\")"
   ]
  },
  {
   "cell_type": "code",
   "execution_count": 86,
   "metadata": {},
   "outputs": [
    {
     "data": {
      "text/plain": [
       "{'class_logits': [-0.10390057414770126,\n",
       "  -0.004794597625732422,\n",
       "  -0.10375700891017914,\n",
       "  -0.031739577651023865,\n",
       "  -0.06213139370083809,\n",
       "  -0.10052867233753204],\n",
       " 'loss': 0.6600041389465332}"
      ]
     },
     "execution_count": 86,
     "metadata": {},
     "output_type": "execute_result"
    }
   ],
   "source": [
    "tagger.predict(\"this tutorial was horrible!\")"
   ]
  },
  {
   "cell_type": "code",
   "execution_count": 87,
   "metadata": {},
   "outputs": [
    {
     "data": {
      "text/plain": [
       "array([[0.4723574 , 0.49640787, 0.469895  , 0.48834574, 0.48394322,\n",
       "        0.47366717],\n",
       "       [0.4724129 , 0.49696982, 0.4707191 , 0.4893371 , 0.48351476,\n",
       "        0.4739319 ],\n",
       "       [0.47110337, 0.49457818, 0.46839222, 0.487233  , 0.48218426,\n",
       "        0.4726479 ],\n",
       "       ...,\n",
       "       [0.47228163, 0.4954556 , 0.46950588, 0.48767394, 0.48294523,\n",
       "        0.47296512],\n",
       "       [0.47272792, 0.49655986, 0.47035402, 0.48888558, 0.4842466 ,\n",
       "        0.47403792],\n",
       "       [0.47122023, 0.4948841 , 0.468895  , 0.48726082, 0.48247686,\n",
       "        0.47307032]], dtype=float32)"
      ]
     },
     "execution_count": 87,
     "metadata": {},
     "output_type": "execute_result"
    }
   ],
   "source": [
    "test_preds"
   ]
  },
  {
   "cell_type": "code",
   "execution_count": null,
   "metadata": {},
   "outputs": [],
   "source": []
  }
 ],
 "metadata": {
  "celltoolbar": "Tags",
  "kernelspec": {
   "display_name": "Python 3",
   "language": "python",
   "name": "python3"
  },
  "language_info": {
   "codemirror_mode": {
    "name": "ipython",
    "version": 3
   },
   "file_extension": ".py",
   "mimetype": "text/x-python",
   "name": "python",
   "nbconvert_exporter": "python",
   "pygments_lexer": "ipython3",
   "version": "3.6.8"
  }
 },
 "nbformat": 4,
 "nbformat_minor": 2
}
